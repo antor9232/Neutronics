{
 "cells": [
  {
   "cell_type": "code",
   "execution_count": 1,
   "id": "b3c84e58-445a-43e3-8790-0cc4decf8180",
   "metadata": {},
   "outputs": [
    {
     "name": "stderr",
     "output_type": "stream",
     "text": [
      "/usr/local/lib/python3.10/dist-packages/numpy/core/getlimits.py:542: UserWarning: Signature b'\\x00\\xd0\\xcc\\xcc\\xcc\\xcc\\xcc\\xcc\\xfb\\xbf\\x00\\x00\\x00\\x00\\x00\\x00' for <class 'numpy.longdouble'> does not match any known type: falling back to type probe function.\n",
      "This warnings indicates broken support for the dtype!\n",
      "  machar = _get_machar(dtype)\n"
     ]
    }
   ],
   "source": [
    "import openmc\n",
    "openmc.config['cross_sections'] = '/home/antor/endfb-viii.0-hdf5/cross_sections.xml'"
   ]
  },
  {
   "cell_type": "code",
   "execution_count": 2,
   "id": "3a161548-7480-4ab3-b467-ead63035d432",
   "metadata": {},
   "outputs": [
    {
     "name": "stderr",
     "output_type": "stream",
     "text": [
      "/usr/local/lib/python3.10/dist-packages/openmc/mixin.py:70: IDWarning: Another Material instance already exists with id=1.\n",
      "  warn(msg, IDWarning)\n"
     ]
    }
   ],
   "source": [
    "\n",
    "\n",
    "# Define materials\n",
    "u233 = openmc.Material(name='U233')\n",
    "u233.add_nuclide('U233', 1.0)\n",
    "u233.set_density('g/cm3', 10.0)\n",
    "\n",
    "u235 = openmc.Material(name='U235')\n",
    "u235.add_nuclide('U235', 1.0)\n",
    "u235.set_density('g/cm3', 10.0)\n",
    "\n",
    "u238 = openmc.Material(name='U238')\n",
    "u238.add_nuclide('U238', 1.0)\n",
    "u238.set_density('g/cm3', 10.0)\n",
    "\n",
    "zr90 = openmc.Material(name='Zr90')\n",
    "zr90.add_nuclide('Zr90', 1.0)\n",
    "zr90.set_density('g/cm3', 10.0)\n",
    "\n",
    "pu238 = openmc.Material(name='Pu238')\n",
    "pu238.add_nuclide('Pu238', 1.0)\n",
    "pu238.set_density('g/cm3', 10.0)\n",
    "\n",
    "pu239 = openmc.Material(name='Pu239')\n",
    "pu239.add_nuclide('Pu239', 1.0)\n",
    "pu239.set_density('g/cm3', 10.0)\n",
    "\n",
    "pu240 = openmc.Material(name='Pu240')\n",
    "pu240.add_nuclide('Pu240', 1.0)\n",
    "pu240.set_density('g/cm3', 10.0)\n",
    "\n",
    "pu241 = openmc.Material(name='Pu241')\n",
    "pu241.add_nuclide('Pu241', 1.0)\n",
    "pu241.set_density('g/cm3', 10.0)\n",
    "\n",
    "pu242 = openmc.Material(name='Pu242')\n",
    "pu242.add_nuclide('Pu242', 1.0)\n",
    "pu242.set_density('g/cm3', 10.0)\n",
    "\n",
    "# Fuel composition (U-Zr-Pu mixed metal fuel)\n",
    "fuel = openmc.Material.mix_materials(\n",
    "    [u233, u235, u238, zr90, pu238, pu239, pu240, pu241, pu242],\n",
    "    [0.00002, 0.0016, 0.7984, 0.1, 0.00318, 0.05635, 0.0266, 0.00802, 0.00583],\n",
    "    percent_type='wo'  # Using atom percent for fractions\n",
    ")\n",
    "\n",
    "fuel.id = 1\n",
    "fuel.temperature = 900            ###########################################  use pre-defined temperatures\n",
    "fuel.name = 'U_Zr_Pu_Mixed_Metal'\n",
    "fuel.depletable = True\n"
   ]
  },
  {
   "cell_type": "code",
   "execution_count": 4,
   "id": "9f3db958-b3a5-4083-8941-524bbd8db183",
   "metadata": {},
   "outputs": [
    {
     "name": "stderr",
     "output_type": "stream",
     "text": [
      "/usr/local/lib/python3.10/dist-packages/openmc/mixin.py:70: IDWarning: Another Material instance already exists with id=2.\n",
      "  warn(msg, IDWarning)\n"
     ]
    }
   ],
   "source": [
    "cladding= openmc.Material(material_id=2,name=\"15-15 Ti Steel\")\n",
    "\n",
    "cladding.add_element('C', 0.001, 'wo')\n",
    "cladding.add_element('Mn', 0.0149, 'wo')\n",
    "cladding.add_element('Si', 0.0052, 'wo')\n",
    "cladding.add_element('P', 0.00041, 'wo')\n",
    "cladding.add_element('Cr', 0.1595, 'wo')\n",
    "cladding.add_element('Ni', 0.154, 'wo')\n",
    "cladding.add_element('B', 0.00007, 'wo')\n",
    "cladding.add_element('Mo', 0.012, 'wo')\n",
    "cladding.add_element('Cu', 0.00026, 'wo')\n",
    "cladding.add_element('V', 0.00036, 'wo')\n",
    "cladding.add_element('Al', 0.64767, 'wo')\n",
    "cladding.add_element('Ti', 0.001, 'wo')\n",
    "cladding.add_element('Fe', 0.64767, 'wo')\n",
    "\n",
    "cladding.set_density('g/cm3',8.0)\n",
    "cladding.temperature = 600      ##################### same\n"
   ]
  },
  {
   "cell_type": "code",
   "execution_count": 6,
   "id": "2128a56a-9d57-4bda-a764-f91647214294",
   "metadata": {},
   "outputs": [
    {
     "name": "stderr",
     "output_type": "stream",
     "text": [
      "/usr/local/lib/python3.10/dist-packages/openmc/mixin.py:70: IDWarning: Another Material instance already exists with id=3.\n",
      "  warn(msg, IDWarning)\n"
     ]
    }
   ],
   "source": [
    "reflector= openmc.Material(material_id=3,name=\"316L Steel\")\n",
    "\n",
    "reflector.add_element('Cr', 0.165, 'wo')\n",
    "reflector.add_element('Ni', 0.13, 'wo')\n",
    "reflector.add_element('Si', 0.005, 'wo')\n",
    "reflector.add_element('P', 0.00045, 'wo')\n",
    "reflector.add_element('C', 0.0003, 'wo')\n",
    "reflector.add_element('Mn', 0.02, 'wo')\n",
    "reflector.add_element('Mo', 0.025, 'wo')\n",
    "reflector.add_element('N', 0.0011, 'wo')\n",
    "reflector.add_element('S', 0.0002, 'wo')\n",
    "reflector.add_element('Fe', 0.65295, 'wo')\n"
   ]
  },
  {
   "cell_type": "code",
   "execution_count": 8,
   "id": "a92b332d-bbdb-4b59-86fd-06ac2784eab1",
   "metadata": {},
   "outputs": [
    {
     "name": "stderr",
     "output_type": "stream",
     "text": [
      "/usr/local/lib/python3.10/dist-packages/openmc/mixin.py:70: IDWarning: Another Material instance already exists with id=4.\n",
      "  warn(msg, IDWarning)\n"
     ]
    }
   ],
   "source": [
    "coolant= openmc.Material(material_id=4,name=\"Lead-Bismuth-Eutectic Alloy Coolant\")\n",
    "coolant.add_element('Pb',0.455,'wo')\n",
    "coolant.add_element('Bi',0.545,'wo')\n",
    "\n",
    "coolant.set_density('g/cm3',10.24)\n",
    "coolant.temperature = 294 ############################### same\n",
    "\n"
   ]
  },
  {
   "cell_type": "code",
   "execution_count": 10,
   "id": "f79e8d3d-dd2d-4d8c-a8e1-f61ebfae9641",
   "metadata": {},
   "outputs": [],
   "source": [
    "#we don't added control rod here\n",
    "# Create material library\n",
    "materials = openmc.Materials([fuel, cladding, coolant])\n",
    "\n",
    "\n",
    "# Export to XML\n",
    "materials.export_to_xml('materials.xml')"
   ]
  },
  {
   "cell_type": "code",
   "execution_count": 11,
   "id": "8d1f8aa0-c563-4db2-afdd-4e57fed88c6b",
   "metadata": {},
   "outputs": [
    {
     "data": {
      "text/plain": [
       "<Axes: xlabel='x [cm]', ylabel='y [cm]'>"
      ]
     },
     "execution_count": 11,
     "metadata": {},
     "output_type": "execute_result"
    },
    {
     "data": {
      "image/png": "[encoded data removed]",
      "text/plain": [
       "<Figure size 645.161x649.351 with 1 Axes>"
      ]
     },
     "metadata": {},
     "output_type": "display_data"
    },
    {
     "data": {
      "image/png": "[encoded data removed]",
      "text/plain": [
       "<Figure size 645.161x649.351 with 1 Axes>"
      ]
     },
     "metadata": {},
     "output_type": "display_data"
    }
   ],
   "source": [
    "\n",
    "# Define surfaces\n",
    "fuel_radius = openmc.ZCylinder(r=4.5 )                       #don't use boundary conditions in intermediary surfaces\n",
    "clad_radius = openmc.ZCylinder(r=5.25)                      #don't use boundary conditions in intermediary surfaces\n",
    "core_radius = openmc.ZCylinder(r=25)\n",
    "ref_radius = openmc.ZCylinder(r=30, boundary_type='reflective')\n",
    "top = openmc.ZPlane(z0=50, boundary_type='reflective')\n",
    "bottom = openmc.ZPlane(z0=-50, boundary_type='reflective')\n",
    "\n",
    "# Define cells\n",
    "fuel_cell = openmc.Cell(cell_id=10, fill=fuel, region= -fuel_radius & -top & +bottom)\n",
    "cladding_cell = openmc.Cell(cell_id=11, fill=cladding, region= +fuel_radius & -clad_radius & -top & +bottom)\n",
    "core_cell = openmc.Cell(cell_id=12, fill=coolant, region=+clad_radius & -core_radius & -top & +bottom)\n",
    "ref_cell = openmc.Cell(cell_id=13, fill=reflector, region=+core_radius & -ref_radius & -top & +bottom)\n",
    "# Create universe\n",
    "fuel_rod = openmc.Universe(cells=[fuel_cell, cladding_cell, core_cell, ref_cell])\n",
    "\n",
    "fuel_rod.plot( origin= (0,0,0), pixels=(500,500), width= (30,30),  color_by='material', basis= 'xz')\n",
    "fuel_rod.plot( origin= (0,0,0), pixels=(500,500), width= (30,30),  color_by='material', basis= 'xy')"
   ]
  },
  {
   "cell_type": "code",
   "execution_count": 12,
   "id": "ffe498af-26ec-422d-80b3-3dab18bc6c2b",
   "metadata": {},
   "outputs": [],
   "source": [
    "\n",
    "\n",
    "# Create geometry\n",
    "geometry = openmc.Geometry(fuel_rod)\n",
    "\n",
    "# Export to XML\n",
    "geometry.export_to_xml()\n"
   ]
  },
  {
   "cell_type": "code",
   "execution_count": 13,
   "id": "37f64550-9835-4063-942d-c111654f7337",
   "metadata": {},
   "outputs": [],
   "source": [
    "# Create a Settings object\n",
    "settings = openmc.Settings()\n",
    "\n",
    "# Set the number of batches and particles per batch\n",
    "settings.batches = 30\n",
    "settings.inactive= 5\n",
    "settings.particles = 10000\n",
    "\n",
    "\n",
    "# Export settings to XML\n",
    "settings.export_to_xml()"
   ]
  },
  {
   "cell_type": "code",
   "execution_count": 14,
   "id": "671d4857-f56e-432f-bbd7-15ed22d264c0",
   "metadata": {},
   "outputs": [
    {
     "name": "stdout",
     "output_type": "stream",
     "text": [
      "                                %%%%%%%%%%%%%%%\n",
      "                           %%%%%%%%%%%%%%%%%%%%%%%%\n",
      "                        %%%%%%%%%%%%%%%%%%%%%%%%%%%%%%\n",
      "                      %%%%%%%%%%%%%%%%%%%%%%%%%%%%%%%%%%\n",
      "                    %%%%%%%%%%%%%%%%%%%%%%%%%%%%%%%%%%%%%%\n",
      "                   %%%%%%%%%%%%%%%%%%%%%%%%%%%%%%%%%%%%%%%%\n",
      "                                    %%%%%%%%%%%%%%%%%%%%%%%%\n",
      "                                     %%%%%%%%%%%%%%%%%%%%%%%%\n",
      "                 ###############      %%%%%%%%%%%%%%%%%%%%%%%%\n",
      "                ##################     %%%%%%%%%%%%%%%%%%%%%%%\n",
      "                ###################     %%%%%%%%%%%%%%%%%%%%%%%\n",
      "                ####################     %%%%%%%%%%%%%%%%%%%%%%\n",
      "                #####################     %%%%%%%%%%%%%%%%%%%%%\n",
      "                ######################     %%%%%%%%%%%%%%%%%%%%\n",
      "                #######################     %%%%%%%%%%%%%%%%%%\n",
      "                 #######################     %%%%%%%%%%%%%%%%%\n",
      "                 ######################     %%%%%%%%%%%%%%%%%\n",
      "                  ####################     %%%%%%%%%%%%%%%%%\n",
      "                    #################     %%%%%%%%%%%%%%%%%\n",
      "                     ###############     %%%%%%%%%%%%%%%%\n",
      "                       ############     %%%%%%%%%%%%%%%\n",
      "                          ########     %%%%%%%%%%%%%%\n",
      "                                      %%%%%%%%%%%\n",
      "\n",
      "                 | The OpenMC Monte Carlo Code\n",
      "       Copyright | 2011-2024 MIT, UChicago Argonne LLC, and contributors\n",
      "         License | https://docs.openmc.org/en/latest/license.html\n",
      "         Version | 0.14.1-dev\n",
      "        Git SHA1 | 5005c3cdc6fba0ee9eb945ff6f9816f50a8d724e\n",
      "       Date/Time | 2024-03-08 23:20:00\n",
      "  OpenMP Threads | 4\n",
      "\n",
      " Reading settings XML file...\n",
      " Reading cross sections XML file...\n",
      " Reading materials XML file...\n",
      " Reading geometry XML file...\n",
      " Reading U233 from /home/antor/endfb-viii.0-hdf5/neutron/U233.h5\n",
      " Reading U235 from /home/antor/endfb-viii.0-hdf5/neutron/U235.h5\n",
      " Reading U238 from /home/antor/endfb-viii.0-hdf5/neutron/U238.h5\n",
      " Reading Zr90 from /home/antor/endfb-viii.0-hdf5/neutron/Zr90.h5\n",
      " Reading Pu238 from /home/antor/endfb-viii.0-hdf5/neutron/Pu238.h5\n",
      " Reading Pu239 from /home/antor/endfb-viii.0-hdf5/neutron/Pu239.h5\n",
      " Reading Pu240 from /home/antor/endfb-viii.0-hdf5/neutron/Pu240.h5\n",
      " Reading Pu241 from /home/antor/endfb-viii.0-hdf5/neutron/Pu241.h5\n",
      " Reading Pu242 from /home/antor/endfb-viii.0-hdf5/neutron/Pu242.h5\n",
      " Reading C12 from /home/antor/endfb-viii.0-hdf5/neutron/C12.h5\n",
      " Reading C13 from /home/antor/endfb-viii.0-hdf5/neutron/C13.h5\n",
      " Reading Mn55 from /home/antor/endfb-viii.0-hdf5/neutron/Mn55.h5\n",
      " Reading Si28 from /home/antor/endfb-viii.0-hdf5/neutron/Si28.h5\n",
      " Reading Si29 from /home/antor/endfb-viii.0-hdf5/neutron/Si29.h5\n",
      " Reading Si30 from /home/antor/endfb-viii.0-hdf5/neutron/Si30.h5\n",
      " Reading P31 from /home/antor/endfb-viii.0-hdf5/neutron/P31.h5\n",
      " Reading Cr50 from /home/antor/endfb-viii.0-hdf5/neutron/Cr50.h5\n",
      " Reading Cr52 from /home/antor/endfb-viii.0-hdf5/neutron/Cr52.h5\n",
      " Reading Cr53 from /home/antor/endfb-viii.0-hdf5/neutron/Cr53.h5\n",
      " Reading Cr54 from /home/antor/endfb-viii.0-hdf5/neutron/Cr54.h5\n",
      " Reading Ni58 from /home/antor/endfb-viii.0-hdf5/neutron/Ni58.h5\n",
      " Reading Ni60 from /home/antor/endfb-viii.0-hdf5/neutron/Ni60.h5\n",
      " Reading Ni61 from /home/antor/endfb-viii.0-hdf5/neutron/Ni61.h5\n",
      " Reading Ni62 from /home/antor/endfb-viii.0-hdf5/neutron/Ni62.h5\n",
      " Reading Ni64 from /home/antor/endfb-viii.0-hdf5/neutron/Ni64.h5\n",
      " Reading B10 from /home/antor/endfb-viii.0-hdf5/neutron/B10.h5\n",
      " Reading B11 from /home/antor/endfb-viii.0-hdf5/neutron/B11.h5\n",
      " Reading Mo92 from /home/antor/endfb-viii.0-hdf5/neutron/Mo92.h5\n",
      " Reading Mo94 from /home/antor/endfb-viii.0-hdf5/neutron/Mo94.h5\n",
      " Reading Mo95 from /home/antor/endfb-viii.0-hdf5/neutron/Mo95.h5\n",
      " Reading Mo96 from /home/antor/endfb-viii.0-hdf5/neutron/Mo96.h5\n",
      " Reading Mo97 from /home/antor/endfb-viii.0-hdf5/neutron/Mo97.h5\n",
      " Reading Mo98 from /home/antor/endfb-viii.0-hdf5/neutron/Mo98.h5\n",
      " Reading Mo100 from /home/antor/endfb-viii.0-hdf5/neutron/Mo100.h5\n",
      " Reading Cu63 from /home/antor/endfb-viii.0-hdf5/neutron/Cu63.h5\n",
      " Reading Cu65 from /home/antor/endfb-viii.0-hdf5/neutron/Cu65.h5\n",
      " Reading V50 from /home/antor/endfb-viii.0-hdf5/neutron/V50.h5\n",
      " Reading V51 from /home/antor/endfb-viii.0-hdf5/neutron/V51.h5\n",
      " Reading Al27 from /home/antor/endfb-viii.0-hdf5/neutron/Al27.h5\n",
      " Reading Ti46 from /home/antor/endfb-viii.0-hdf5/neutron/Ti46.h5\n",
      " Reading Ti47 from /home/antor/endfb-viii.0-hdf5/neutron/Ti47.h5\n",
      " Reading Ti48 from /home/antor/endfb-viii.0-hdf5/neutron/Ti48.h5\n",
      " Reading Ti49 from /home/antor/endfb-viii.0-hdf5/neutron/Ti49.h5\n",
      " Reading Ti50 from /home/antor/endfb-viii.0-hdf5/neutron/Ti50.h5\n",
      " Reading Fe54 from /home/antor/endfb-viii.0-hdf5/neutron/Fe54.h5\n",
      " Reading Fe56 from /home/antor/endfb-viii.0-hdf5/neutron/Fe56.h5\n",
      " Reading Fe57 from /home/antor/endfb-viii.0-hdf5/neutron/Fe57.h5\n",
      " Reading Fe58 from /home/antor/endfb-viii.0-hdf5/neutron/Fe58.h5\n",
      " Reading Pb204 from /home/antor/endfb-viii.0-hdf5/neutron/Pb204.h5\n",
      " Reading Pb206 from /home/antor/endfb-viii.0-hdf5/neutron/Pb206.h5\n",
      " Reading Pb207 from /home/antor/endfb-viii.0-hdf5/neutron/Pb207.h5\n",
      " Reading Pb208 from /home/antor/endfb-viii.0-hdf5/neutron/Pb208.h5\n",
      " Reading Bi209 from /home/antor/endfb-viii.0-hdf5/neutron/Bi209.h5\n",
      " Minimum neutron data temperature: 294 K\n",
      " Maximum neutron data temperature: 294 K\n",
      " Preparing distributed cell instances...\n",
      " Reading plot XML file...\n",
      " Writing summary.h5 file...\n",
      " Maximum neutron transport energy: 20000000 eV for U233\n",
      " Initializing source particles...\n",
      "\n",
      " ====================>     K EIGENVALUE SIMULATION     <====================\n",
      "\n",
      "  Bat./Gen.      k            Average k\n",
      "  =========   ========   ====================\n",
      "        1/1    0.86660\n",
      "        2/1    0.85251\n",
      "        3/1    0.83744\n",
      "        4/1    0.84068\n",
      "        5/1    0.83420\n",
      "        6/1    0.82266\n",
      "        7/1    0.82650    0.82458 +/- 0.00192\n",
      "        8/1    0.83891    0.82936 +/- 0.00491\n",
      "        9/1    0.84192    0.83250 +/- 0.00468\n",
      "       10/1    0.84088    0.83417 +/- 0.00399\n",
      "       11/1    0.83025    0.83352 +/- 0.00333\n",
      "       12/1    0.84618    0.83533 +/- 0.00334\n",
      "       13/1    0.83540    0.83534 +/- 0.00289\n",
      "       14/1    0.83259    0.83503 +/- 0.00257\n",
      "       15/1    0.83666    0.83519 +/- 0.00231\n",
      "       16/1    0.82770    0.83451 +/- 0.00219\n",
      "       17/1    0.82111    0.83340 +/- 0.00229\n",
      "       18/1    0.81611    0.83207 +/- 0.00249\n",
      "       19/1    0.84004    0.83264 +/- 0.00238\n",
      "       20/1    0.83398    0.83273 +/- 0.00222\n",
      "       21/1    0.82853    0.83246 +/- 0.00209\n",
      "       22/1    0.83193    0.83243 +/- 0.00196\n",
      "       23/1    0.83605    0.83263 +/- 0.00186\n",
      "       24/1    0.84759    0.83342 +/- 0.00193\n",
      "       25/1    0.83904    0.83370 +/- 0.00185\n",
      "       26/1    0.85055    0.83450 +/- 0.00193\n",
      "       27/1    0.84061    0.83478 +/- 0.00187\n",
      "       28/1    0.83181    0.83465 +/- 0.00179\n",
      "       29/1    0.84065    0.83490 +/- 0.00173\n",
      "       30/1    0.84339    0.83524 +/- 0.00169\n",
      " Creating state point statepoint.30.h5...\n",
      "\n",
      " =======================>     TIMING STATISTICS     <=======================\n",
      "\n",
      " Total time for initialization     = 2.1948e+01 seconds\n",
      "   Reading cross sections          = 2.1739e+01 seconds\n",
      " Total time in simulation          = 1.5300e+02 seconds\n",
      "   Time in transport only          = 1.5284e+02 seconds\n",
      "   Time in inactive batches        = 1.9596e+01 seconds\n",
      "   Time in active batches          = 1.3340e+02 seconds\n",
      "   Time synchronizing fission bank = 5.9691e-02 seconds\n",
      "     Sampling source sites         = 5.3888e-02 seconds\n",
      "     SEND/RECV source sites        = 5.5260e-03 seconds\n",
      "   Time accumulating tallies       = 7.5700e-05 seconds\n",
      "   Time writing statepoints        = 7.6846e-02 seconds\n",
      " Total time for finalization       = 5.2000e-06 seconds\n",
      " Total time elapsed                = 1.7500e+02 seconds\n",
      " Calculation Rate (inactive)       = 2551.6 particles/second\n",
      " Calculation Rate (active)         = 1874.05 particles/second\n",
      "\n",
      " ============================>     RESULTS     <============================\n",
      "\n",
      " k-effective (Collision)     = 0.83573 +/- 0.00167\n",
      " k-effective (Track-length)  = 0.83524 +/- 0.00169\n",
      " k-effective (Absorption)    = 0.83628 +/- 0.00241\n",
      " Combined k-effective        = 0.83567 +/- 0.00146\n",
      " Leakage Fraction            = 0.00000 +/- 0.00000\n",
      "\n"
     ]
    }
   ],
   "source": [
    "\n",
    "openmc.run()"
   ]
  },
  {
   "cell_type": "code",
   "execution_count": null,
   "id": "347470af-b9a6-4407-9a3a-74b5714ac5d2",
   "metadata": {},
   "outputs": [],
   "source": []
  },
  {
   "cell_type": "code",
   "execution_count": null,
   "id": "e8ceee04-e1b7-4b3a-840b-a7716426cd3c",
   "metadata": {},
   "outputs": [],
   "source": []
  }
 ],
 "metadata": {
  "kernelspec": {
   "display_name": "Python 3 (ipykernel)",
   "language": "python",
   "name": "python3"
  },
  "language_info": {
   "codemirror_mode": {
    "name": "ipython",
    "version": 3
   },
   "file_extension": ".py",
   "mimetype": "text/x-python",
   "name": "python",
   "nbconvert_exporter": "python",
   "pygments_lexer": "ipython3",
   "version": "3.10.12"
  }
 },
 "nbformat": 4,
 "nbformat_minor": 5
}
